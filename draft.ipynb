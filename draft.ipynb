{
 "cells": [
  {
   "cell_type": "code",
   "execution_count": 1,
   "metadata": {},
   "outputs": [],
   "source": [
    "from read_data import read_data"
   ]
  },
  {
   "cell_type": "code",
   "execution_count": 2,
   "metadata": {},
   "outputs": [],
   "source": [
    "product_MXD = read_data('NDVI')    "
   ]
  },
  {
   "cell_type": "code",
   "execution_count": 3,
   "metadata": {},
   "outputs": [
    {
     "data": {
      "text/html": [
       "<div>\n",
       "<style scoped>\n",
       "    .dataframe tbody tr th:only-of-type {\n",
       "        vertical-align: middle;\n",
       "    }\n",
       "\n",
       "    .dataframe tbody tr th {\n",
       "        vertical-align: top;\n",
       "    }\n",
       "\n",
       "    .dataframe thead th {\n",
       "        text-align: right;\n",
       "    }\n",
       "</style>\n",
       "<table border=\"1\" class=\"dataframe\">\n",
       "  <thead>\n",
       "    <tr style=\"text-align: right;\">\n",
       "      <th></th>\n",
       "      <th>Date</th>\n",
       "      <th>NDVI</th>\n",
       "      <th>Composite_date</th>\n",
       "      <th>Same_composite</th>\n",
       "    </tr>\n",
       "    <tr>\n",
       "      <th>ID</th>\n",
       "      <th></th>\n",
       "      <th></th>\n",
       "      <th></th>\n",
       "      <th></th>\n",
       "    </tr>\n",
       "  </thead>\n",
       "  <tbody>\n",
       "    <tr>\n",
       "      <th>AFG01a</th>\n",
       "      <td>2002-07-04</td>\n",
       "      <td>0.2257</td>\n",
       "      <td>2002-07-10</td>\n",
       "      <td>False</td>\n",
       "    </tr>\n",
       "    <tr>\n",
       "      <th>AFG01a</th>\n",
       "      <td>2002-07-12</td>\n",
       "      <td>0.2410</td>\n",
       "      <td>2002-07-18</td>\n",
       "      <td>False</td>\n",
       "    </tr>\n",
       "    <tr>\n",
       "      <th>AFG01a</th>\n",
       "      <td>2002-07-20</td>\n",
       "      <td>0.2255</td>\n",
       "      <td>2002-07-26</td>\n",
       "      <td>False</td>\n",
       "    </tr>\n",
       "    <tr>\n",
       "      <th>AFG01a</th>\n",
       "      <td>2002-07-28</td>\n",
       "      <td>0.2530</td>\n",
       "      <td>2002-08-03</td>\n",
       "      <td>False</td>\n",
       "    </tr>\n",
       "    <tr>\n",
       "      <th>AFG01a</th>\n",
       "      <td>2002-08-05</td>\n",
       "      <td>0.2703</td>\n",
       "      <td>2002-08-11</td>\n",
       "      <td>False</td>\n",
       "    </tr>\n",
       "    <tr>\n",
       "      <th>...</th>\n",
       "      <td>...</td>\n",
       "      <td>...</td>\n",
       "      <td>...</td>\n",
       "      <td>...</td>\n",
       "    </tr>\n",
       "    <tr>\n",
       "      <th>ZAM14b</th>\n",
       "      <td>2020-04-06</td>\n",
       "      <td>0.7385</td>\n",
       "      <td>2020-04-08</td>\n",
       "      <td>False</td>\n",
       "    </tr>\n",
       "    <tr>\n",
       "      <th>ZAM14b</th>\n",
       "      <td>2020-04-14</td>\n",
       "      <td>0.6640</td>\n",
       "      <td>2020-04-22</td>\n",
       "      <td>False</td>\n",
       "    </tr>\n",
       "    <tr>\n",
       "      <th>ZAM14b</th>\n",
       "      <td>2020-04-22</td>\n",
       "      <td>0.6618</td>\n",
       "      <td>2020-04-28</td>\n",
       "      <td>False</td>\n",
       "    </tr>\n",
       "    <tr>\n",
       "      <th>ZAM14b</th>\n",
       "      <td>2020-04-30</td>\n",
       "      <td>0.5395</td>\n",
       "      <td>2020-05-15</td>\n",
       "      <td>False</td>\n",
       "    </tr>\n",
       "    <tr>\n",
       "      <th>ZAM14b</th>\n",
       "      <td>2020-05-08</td>\n",
       "      <td>0.5897</td>\n",
       "      <td>2020-05-14</td>\n",
       "      <td>False</td>\n",
       "    </tr>\n",
       "  </tbody>\n",
       "</table>\n",
       "<p>147138 rows × 4 columns</p>\n",
       "</div>"
      ],
      "text/plain": [
       "              Date    NDVI Composite_date  Same_composite\n",
       "ID                                                       \n",
       "AFG01a  2002-07-04  0.2257     2002-07-10           False\n",
       "AFG01a  2002-07-12  0.2410     2002-07-18           False\n",
       "AFG01a  2002-07-20  0.2255     2002-07-26           False\n",
       "AFG01a  2002-07-28  0.2530     2002-08-03           False\n",
       "AFG01a  2002-08-05  0.2703     2002-08-11           False\n",
       "...            ...     ...            ...             ...\n",
       "ZAM14b  2020-04-06  0.7385     2020-04-08           False\n",
       "ZAM14b  2020-04-14  0.6640     2020-04-22           False\n",
       "ZAM14b  2020-04-22  0.6618     2020-04-28           False\n",
       "ZAM14b  2020-04-30  0.5395     2020-05-15           False\n",
       "ZAM14b  2020-05-08  0.5897     2020-05-14           False\n",
       "\n",
       "[147138 rows x 4 columns]"
      ]
     },
     "execution_count": 3,
     "metadata": {},
     "output_type": "execute_result"
    }
   ],
   "source": [
    "product_MXD"
   ]
  },
  {
   "cell_type": "code",
   "execution_count": 4,
   "metadata": {},
   "outputs": [],
   "source": [
    "import xarray as xr\n",
    "vim = xr.open_zarr('data/vim_zarr')\n",
    "tda = xr.open_zarr('data/tda_zarr')"
   ]
  },
  {
   "cell_type": "code",
   "execution_count": 11,
   "metadata": {},
   "outputs": [],
   "source": [
    "from itertools import product\n",
    "vim['names'] = [f\"grid({str(round(lat)).zfill(2)},{str(round(lon)).zfill(2)})\" for lat, lon in product(vim.latitude.values, vim.longitude.values)]"
   ]
  },
  {
   "cell_type": "code",
   "execution_count": 21,
   "metadata": {},
   "outputs": [],
   "source": [
    "names_grid_sample = vim.names.values"
   ]
  },
  {
   "cell_type": "code",
   "execution_count": 29,
   "metadata": {},
   "outputs": [
    {
     "data": {
      "text/plain": [
       "'-95'"
      ]
     },
     "execution_count": 29,
     "metadata": {},
     "output_type": "execute_result"
    }
   ],
   "source": [
    "names_grid_sample[0].split(',')[-1].split(')')[0]"
   ]
  }
 ],
 "metadata": {
  "kernelspec": {
   "display_name": "stream-lit",
   "language": "python",
   "name": "python3"
  },
  "language_info": {
   "codemirror_mode": {
    "name": "ipython",
    "version": 3
   },
   "file_extension": ".py",
   "mimetype": "text/x-python",
   "name": "python",
   "nbconvert_exporter": "python",
   "pygments_lexer": "ipython3",
   "version": "3.11.3"
  },
  "orig_nbformat": 4
 },
 "nbformat": 4,
 "nbformat_minor": 2
}
